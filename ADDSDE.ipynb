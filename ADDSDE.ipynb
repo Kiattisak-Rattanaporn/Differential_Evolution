{
 "cells": [
  {
   "cell_type": "code",
   "execution_count": 1,
   "id": "50a13cbe",
   "metadata": {},
   "outputs": [],
   "source": [
    "# differential evolution search of the two-dimensional sphere objective function\n",
    "from numpy.random import rand\n",
    "from numpy.random import choice\n",
    "from numpy import asarray\n",
    "from numpy import clip\n",
    "from numpy import argmin\n",
    "from numpy import min\n",
    "from numpy import around\n",
    "from matplotlib import pyplot\n",
    "import random\n"
   ]
  },
  {
   "cell_type": "code",
   "execution_count": 2,
   "id": "d0fc10b3",
   "metadata": {},
   "outputs": [],
   "source": [
    "#for Ackley function\n",
    "from numpy import arange\n",
    "from numpy import exp\n",
    "from numpy import sqrt\n",
    "from numpy import cos\n",
    "from numpy import e\n",
    "from numpy import pi\n",
    "from numpy import meshgrid"
   ]
  },
  {
   "cell_type": "code",
   "execution_count": 3,
   "id": "bb011826",
   "metadata": {},
   "outputs": [],
   "source": [
    "#define objective function: Ackley function\n",
    "def obj(x):\n",
    "    return -20.0 * exp(-0.2 * sqrt(0.5 * (x[0]**2 + x[1]**2)))-exp(0.5 * (cos(2 * pi * x[0])+cos(2 * pi * x[1]))) + e + 20"
   ]
  },
  {
   "cell_type": "code",
   "execution_count": 4,
   "id": "626d51dc",
   "metadata": {},
   "outputs": [],
   "source": [
    "# # define objective function\n",
    "# def obj(x):\n",
    "#     y = x[0]**2 + x[0]**3 + x[0]**4 + x[1]**2 + x[1]**3 + x[1]**4\n",
    "#     return y"
   ]
  },
  {
   "cell_type": "code",
   "execution_count": 20,
   "id": "cb121fe8",
   "metadata": {},
   "outputs": [],
   "source": [
    "# define mutation operation\n",
    "def mutation(x, F, u):\n",
    "    ran = random.random()\n",
    "    best_vector = 1\n",
    "    return (u)*(x[0] + (F)*(x[1] - x[2])) + (1 - u)*(x[0] + (F)*((ran)*(best_vector) - (x[0])))"
   ]
  },
  {
   "cell_type": "code",
   "execution_count": 21,
   "id": "754a79e7",
   "metadata": {},
   "outputs": [],
   "source": [
    "# define boundary check operation\n",
    "def check_bounds(mutated, bounds):\n",
    "    mutated_bound = [clip(mutated[i], bounds[i, 0], bounds[i, 1]) for i in range(len(bounds))]\n",
    "    return mutated_bound"
   ]
  },
  {
   "cell_type": "code",
   "execution_count": 22,
   "id": "f8bd7b77",
   "metadata": {},
   "outputs": [],
   "source": [
    "# define crossover operation\n",
    "def crossover(mutated, target, dims, cr):\n",
    "    # generate a uniform random value for every dimension\n",
    "    p = rand(dims)\n",
    "    # generate trial vector by binomial crossover\n",
    "    trial = [mutated[i] if p[i] < cr else target[i] for i in range(dims)]\n",
    "    return trial"
   ]
  },
  {
   "cell_type": "code",
   "execution_count": 55,
   "id": "7d7eb037",
   "metadata": {},
   "outputs": [],
   "source": [
    "def differential_evolution(pop_size, bounds, iter, Fmax, Fmin, CRmax, CRmin):\n",
    "    # initialise population of candidate solutions randomly within the specified bounds\n",
    "    pop = bounds[:, 0] + (rand(pop_size, len(bounds)) * (bounds[:, 1] - bounds[:, 0]))\n",
    "    # evaluate initial population of candidate solutions\n",
    "    obj_all = [obj(ind) for ind in pop]\n",
    "    # find the best performing vector of initial population\n",
    "    best_vector = pop[argmin(obj_all)]\n",
    "    best_obj = min(obj_all)\n",
    "    prev_obj = best_obj\n",
    "    # initialise list to store the objective function value at each iteration\n",
    "    obj_iter = list()\n",
    "    # run iterations of the algorithm\n",
    "    for i in range(iter):\n",
    "        #Adaptive adjustment scalling factor\n",
    "        F = Fmax - ((Fmax - Fmin)*(i/iter))\n",
    "        #Adaptive adjustment crossover rate\n",
    "        CR = CRmin + ((CRmax - CRmin)*((i/iter)**2))\n",
    "        #Weight Dynamic Mutation Strategy\n",
    "        u = exp(-sqrt(i))\n",
    "        # iterate over all candidate solutions\n",
    "        for j in range(pop_size):\n",
    "            # choose three candidates, a, b and c, that are not the current one\n",
    "            candidates = [candidate for candidate in range(pop_size) if candidate != j]\n",
    "            a, b, c = pop[choice(candidates, 3, replace=False)]\n",
    "            # perform mutation\n",
    "            mutated = mutation([a, b, c], F, u)\n",
    "            # check that lower and upper bounds are retained after mutation\n",
    "            mutated = check_bounds(mutated, bounds)\n",
    "            # perform crossover\n",
    "            trial = crossover(mutated, pop[j], len(bounds), CR)\n",
    "            # compute objective function value for target vector\n",
    "            obj_target = obj(pop[j])\n",
    "            # compute objective function value for trial vector\n",
    "            obj_trial = obj(trial)\n",
    "            # perform selection\n",
    "            if obj_trial < obj_target:\n",
    "                # replace the target vector with the trial vector\n",
    "                pop[j] = trial\n",
    "                # store the new objective function value\n",
    "                obj_all[j] = obj_trial\n",
    "        # find the best performing vector at each iteration\n",
    "        best_obj = min(obj_all)\n",
    "        # store the lowest objective function value\n",
    "        if best_obj < prev_obj:\n",
    "            best_vector = pop[argmin(obj_all)]\n",
    "            prev_obj = best_obj\n",
    "            obj_iter.append(best_obj)\n",
    "            # report progress at each iteration\n",
    "            print('Iteration: %d f([%s]) = %.5f' % (i, around(best_vector, decimals=5), best_obj))\n",
    "            print('F =', F)\n",
    "            print('CR =', CR)\n",
    "            print('u =', u)\n",
    "            #print('best_vector=', best_vector)\n",
    "            print('-------')\n",
    "    return [best_vector, best_obj, obj_iter]\n"
   ]
  },
  {
   "cell_type": "code",
   "execution_count": 56,
   "id": "d8337513",
   "metadata": {
    "scrolled": false
   },
   "outputs": [
    {
     "name": "stdout",
     "output_type": "stream",
     "text": [
      "Iteration: 2 f([[0.71288 0.07848]]) = 3.26347\n",
      "F = 0.872\n",
      "CR = 0.19968000000000002\n",
      "u = 0.2431167344342142\n",
      "-------\n",
      "Iteration: 3 f([[-0.19914 -0.0851 ]]) = 1.52245\n",
      "F = 0.858\n",
      "CR = 0.19928\n",
      "u = 0.17692120631776423\n",
      "-------\n",
      "Iteration: 7 f([[ 0.16223 -0.09448]]) = 1.27547\n",
      "F = 0.802\n",
      "CR = 0.19608\n",
      "u = 0.07095202666684558\n",
      "-------\n",
      "Iteration: 10 f([[ 0.09737 -0.06938]]) = 0.68440\n",
      "F = 0.76\n",
      "CR = 0.192\n",
      "u = 0.04232921962320499\n",
      "-------\n",
      "Iteration: 11 f([[ 0.00753 -0.00187]]) = 0.02355\n",
      "F = 0.746\n",
      "CR = 0.19032000000000002\n",
      "u = 0.03627506129959581\n",
      "-------\n",
      "\n",
      "Solution: f([[ 0.00753 -0.00187]]) = 0.02355\n"
     ]
    },
    {
     "data": {
      "image/png": "[encoded data removed]",
      "text/plain": [
       "<Figure size 432x288 with 1 Axes>"
      ]
     },
     "metadata": {
      "needs_background": "light"
     },
     "output_type": "display_data"
    }
   ],
   "source": [
    "# define population size\n",
    "pop_size = 30\n",
    "# define lower and upper bounds for every dimension\n",
    "bounds = asarray([(-5.0, 5.0), (-5.0, 5.0)])\n",
    "# define number of iterations\n",
    "iter = 50\n",
    "# define scale factor for mutation\n",
    "Fmax = 0.9\n",
    "Fmin = 0.2\n",
    "# define crossover rate for recombination\n",
    "CRmax = 0.\n",
    "CRmin = 0.2\n",
    "# perform differential evolution\n",
    "solution = differential_evolution(pop_size, bounds, iter, Fmax, Fmin, CRmax, CRmin)\n",
    "print('\\nSolution: f([%s]) = %.5f' % (around(solution[0], decimals=5), solution[1]))\n",
    "\n",
    "# line plot of best objective function values\n",
    "pyplot.plot(solution[2], color=\"purple\", marker=\".\")\n",
    "pyplot.xlabel('Improvement Number')\n",
    "pyplot.ylabel('Evaluation f(x)')\n",
    "pyplot.show()"
   ]
  },
  {
   "cell_type": "code",
   "execution_count": null,
   "id": "41d9b109",
   "metadata": {},
   "outputs": [],
   "source": []
  },
  {
   "cell_type": "code",
   "execution_count": null,
   "id": "6f16aea3",
   "metadata": {},
   "outputs": [],
   "source": []
  }
 ],
 "metadata": {
  "kernelspec": {
   "display_name": "Python 3",
   "language": "python",
   "name": "python3"
  },
  "language_info": {
   "codemirror_mode": {
    "name": "ipython",
    "version": 3
   },
   "file_extension": ".py",
   "mimetype": "text/x-python",
   "name": "python",
   "nbconvert_exporter": "python",
   "pygments_lexer": "ipython3",
   "version": "3.8.8"
  }
 },
 "nbformat": 4,
 "nbformat_minor": 5
}
